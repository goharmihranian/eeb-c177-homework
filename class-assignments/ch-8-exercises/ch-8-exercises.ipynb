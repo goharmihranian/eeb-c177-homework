{
 "cells": [
  {
   "cell_type": "code",
   "execution_count": 1,
   "metadata": {},
   "outputs": [
    {
     "name": "stdout",
     "output_type": "stream",
     "text": [
      "{'dog': 'chien', 'cat': 'chat', 'walrus': 'morse'}\n"
     ]
    }
   ],
   "source": [
    "#8.1: Make an English-to-French dictionary called e2f and print it. Here are your starter words: dog is chien, cat is chat, and walrus is morse.\n",
    "e2f = {\"dog\" : \"chien\", \"cat\" : \"chat\", \"walrus\" : \"morse\" }\n",
    "print (e2f)"
   ]
  },
  {
   "cell_type": "code",
   "execution_count": 2,
   "metadata": {},
   "outputs": [
    {
     "data": {
      "text/plain": [
       "'morse'"
      ]
     },
     "execution_count": 2,
     "metadata": {},
     "output_type": "execute_result"
    }
   ],
   "source": [
    "# 8.2: Using your three-word dictionary e2f, print the French word for walrus.\n",
    "e2f['walrus']"
   ]
  },
  {
   "cell_type": "code",
   "execution_count": 4,
   "metadata": {},
   "outputs": [
    {
     "name": "stdout",
     "output_type": "stream",
     "text": [
      "{'chien': 'dog', 'chat': 'cat', 'morse': 'walrus'}\n"
     ]
    }
   ],
   "source": [
    "# 8.3: 8.3 Make a French-to-English dictionary called f2e from e2f. Use the items method.\n",
    "f2e = dict([(value,key) for key, value in e2f.items()])\n",
    "print(f2e)"
   ]
  },
  {
   "cell_type": "code",
   "execution_count": null,
   "metadata": {},
   "outputs": [],
   "source": []
  }
 ],
 "metadata": {
  "kernelspec": {
   "display_name": "Python 3",
   "language": "python",
   "name": "python3"
  },
  "language_info": {
   "codemirror_mode": {
    "name": "ipython",
    "version": 3
   },
   "file_extension": ".py",
   "mimetype": "text/x-python",
   "name": "python",
   "nbconvert_exporter": "python",
   "pygments_lexer": "ipython3",
   "version": "3.7.5"
  }
 },
 "nbformat": 4,
 "nbformat_minor": 2
}
