{
 "cells": [
  {
   "cell_type": "code",
   "execution_count": 2,
   "metadata": {},
   "outputs": [
    {
     "name": "stdout",
     "output_type": "stream",
     "text": [
      "Original dictionary :  {1: 2, 3: 4, 4: 3, 2: 1, 0: 0}\n",
      "Dictionary in ascending order by value :  [(0, 0), (2, 1), (1, 2), (4, 3), (3, 4)]\n",
      "Dictionary in descending order by value :  {3: 4, 4: 3, 1: 2, 2: 1, 0: 0}\n"
     ]
    }
   ],
   "source": [
    "import operator\n",
    "# imports program called operator\n",
    "d = {1: 2, 3: 4, 4: 3, 2: 1, 0: 0}\n",
    "# defines values for dictionary\n",
    "print('Original dictionary : ',d)\n",
    "# prints dictionary we just defined\n",
    "sorted_d = sorted(d.items(), key=operator.itemgetter(1))\n",
    "# sorts list (dictionary) values\n",
    "print('Dictionary in ascending order by value : ',sorted_d)\n",
    "#prints sorted list in ascending order\n",
    "sorted_d = dict( sorted(d.items(), key=operator.itemgetter(1),reverse=True))\n",
    "#sorts list in descending order\n",
    "print('Dictionary in descending order by value : ',sorted_d)\n",
    "# prints list in descending order"
   ]
  },
  {
   "cell_type": "code",
   "execution_count": 4,
   "metadata": {},
   "outputs": [
    {
     "name": "stdout",
     "output_type": "stream",
     "text": [
      "{0: 10, 1: 20}\n",
      "{0: 10, 1: 20, 2: 30}\n"
     ]
    }
   ],
   "source": [
    "d = {0:10, 1:20}\n",
    "# defines dictionary\n",
    "print(d)\n",
    "# prints dictionary\n",
    "d.update({2:30})\n",
    "# update previously defined dictionary with new values\n",
    "print(d)\n",
    "# prints updated dictionary with new values added to it"
   ]
  },
  {
   "cell_type": "code",
   "execution_count": 6,
   "metadata": {},
   "outputs": [
    {
     "name": "stdout",
     "output_type": "stream",
     "text": [
      "{1: 10, 2: 20, 3: 30, 4: 40, 5: 50, 6: 60}\n"
     ]
    }
   ],
   "source": [
    "dic1={1:10, 2:20}\n",
    "#assign values to dictionary 1\n",
    "dic2={3:30, 4:40}\n",
    "#assign value to dictionary 2\n",
    "dic3={5:50,6:60}\n",
    "#assign values to dictionary 3\n",
    "dic4 = {}\n",
    "# create dictionary 4 but leave it empty\n",
    "for d in (dic1, dic2, dic3): dic4.update(d)\n",
    "print(dic4)\n",
    "#create a new dictionary that combines dictionaries 1-3 and assigns them to 4 and print it\n"
   ]
  },
  {
   "cell_type": "code",
   "execution_count": 8,
   "metadata": {},
   "outputs": [
    {
     "name": "stdout",
     "output_type": "stream",
     "text": [
      "Key is present in the dictionary\n",
      "Key is not present in the dictionary\n"
     ]
    }
   ],
   "source": [
    "d = {1: 10, 2: 20, 3: 30, 4: 40, 5: 50, 6: 60}\n",
    "# assign new dictionary\n",
    "def is_key_present(x):\n",
    "  if x in d:\n",
    "      print('Key is present in the dictionary')\n",
    "  else:\n",
    "      print('Key is not present in the dictionary')\n",
    "# define a prompt \"is key present\" (x) with a variable, so if x is present in our dictionary d then it will say \"key is present in dictionary\"\n",
    "# if our varibale is not present in d, then it will say \"key is not present in the dictionary\"\n",
    "\n",
    "is_key_present(5)\n",
    "is_key_present(9)\n",
    "#printing if number 5 is in our dictionary(yes) and if number 9 is in our dictionary (no)"
   ]
  },
  {
   "cell_type": "code",
   "execution_count": 11,
   "metadata": {},
   "outputs": [
    {
     "name": "stdout",
     "output_type": "stream",
     "text": [
      "x -> 10\n",
      "y -> 20\n",
      "z -> 30\n"
     ]
    }
   ],
   "source": [
    "d = {'x': 10, 'y': 20, 'z': 30} \n",
    "# define dictionary, assigning values to x,y, and z respectively\n",
    "for dict_key, dict_value in d.items():\n",
    "    print(dict_key,'->',dict_value)\n",
    "# assigns variables as the 'key' and the numbers as 'values' and then inserts an arrow in between"
   ]
  },
  {
   "cell_type": "code",
   "execution_count": 13,
   "metadata": {},
   "outputs": [
    {
     "name": "stdout",
     "output_type": "stream",
     "text": [
      "Input a number 25\n",
      "{1: 1, 2: 4, 3: 9, 4: 16, 5: 25, 6: 36, 7: 49, 8: 64, 9: 81, 10: 100, 11: 121, 12: 144, 13: 169, 14: 196, 15: 225, 16: 256, 17: 289, 18: 324, 19: 361, 20: 400, 21: 441, 22: 484, 23: 529, 24: 576, 25: 625}\n"
     ]
    }
   ],
   "source": [
    "n=int(input(\"Input a number \"))\n",
    "# defines an input to prompt \"input a number\" to the person behind the screen\n",
    "d = dict()\n",
    "# assigns d to a dictionary (empty)\n",
    "\n",
    "\n",
    "for x in range(1,n+1):\n",
    "    d[x]=x*x\n",
    "\n",
    "print(d) \n",
    "# for any value of x in the range (1,n+1), write the number and the square\n",
    "# print d\n",
    "# I was prompted to a box that said \"input a number\" so I typed 25 and it gave me 1-25 and all of its accompanying squares"
   ]
  },
  {
   "cell_type": "code",
   "execution_count": 14,
   "metadata": {},
   "outputs": [
    {
     "name": "stdout",
     "output_type": "stream",
     "text": [
      "{1: 1, 2: 4, 3: 9, 4: 16, 5: 25, 6: 36, 7: 49, 8: 64, 9: 81, 10: 100, 11: 121, 12: 144, 13: 169, 14: 196, 15: 225}\n"
     ]
    }
   ],
   "source": [
    "d=dict()\n",
    "# define an empty dictionary\n",
    "for x in range(1,16):\n",
    "    d[x]=x**2\n",
    "#for any number between 1-16, take that number and square it\n",
    "print(d)  \n",
    "#print the dictionary"
   ]
  },
  {
   "cell_type": "code",
   "execution_count": 16,
   "metadata": {},
   "outputs": [
    {
     "name": "stdout",
     "output_type": "stream",
     "text": [
      "{'a': 100, 'b': 200, 'x': 300, 'y': 200}\n"
     ]
    }
   ],
   "source": [
    "d1 = {'a': 100, 'b': 200}\n",
    "# define dictionary 1 with variables a and b assigned to their respective values\n",
    "d2 = {'x': 300, 'y': 200}\n",
    "# define dictionary 2 with variables x and y assigned to their respective values\n",
    "d = d1.copy()\n",
    "# make a copy of d1 and assign it to d\n",
    "d.update(d2)\n",
    "# update d by adding d2 to it\n",
    "print(d)\n",
    "# print updated dictionary d"
   ]
  },
  {
   "cell_type": "code",
   "execution_count": 18,
   "metadata": {},
   "outputs": [
    {
     "name": "stdout",
     "output_type": "stream",
     "text": [
      "Red corresponds to  1\n",
      "Green corresponds to  2\n",
      "Blue corresponds to  3\n"
     ]
    }
   ],
   "source": [
    "d = {'Red': 1, 'Green': 2, 'Blue': 3} \n",
    "# assign dictionary values to colors\n",
    "for color_key, value in d.items():\n",
    "     print(color_key, 'corresponds to ', d[color_key]) \n",
    "#made a color key and put 'corresponds to' between the color and its assigned value"
   ]
  },
  {
   "cell_type": "code",
   "execution_count": 19,
   "metadata": {},
   "outputs": [
    {
     "name": "stdout",
     "output_type": "stream",
     "text": [
      "293\n"
     ]
    }
   ],
   "source": [
    "my_dict = {'data1':100,'data2':-54,'data3':247}\n",
    "#assign values to 3 data points\n",
    "print(sum(my_dict.values()))\n",
    "# add up 3 data points"
   ]
  },
  {
   "cell_type": "code",
   "execution_count": null,
   "metadata": {},
   "outputs": [],
   "source": []
  }
 ],
 "metadata": {
  "kernelspec": {
   "display_name": "Python 3",
   "language": "python",
   "name": "python3"
  },
  "language_info": {
   "codemirror_mode": {
    "name": "ipython",
    "version": 3
   },
   "file_extension": ".py",
   "mimetype": "text/x-python",
   "name": "python",
   "nbconvert_exporter": "python",
   "pygments_lexer": "ipython3",
   "version": "3.7.5"
  }
 },
 "nbformat": 4,
 "nbformat_minor": 2
}
