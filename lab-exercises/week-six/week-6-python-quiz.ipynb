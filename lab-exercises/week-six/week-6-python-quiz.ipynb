{
 "cells": [
  {
   "cell_type": "markdown",
   "metadata": {},
   "source": [
    "## 1. What is a list in Python? Write the code to define a list with the name my_list and the values 45, 4, 3.32, ‘abc’, 10121. (5 points)"
   ]
  },
  {
   "cell_type": "code",
   "execution_count": 1,
   "metadata": {},
   "outputs": [],
   "source": [
    "# A list in python is a type of data structure that is changeable or mutable and is defined by a set of square brackets like so: [].\n",
    "my_list = [\"dogs\", \"cats\", 2.20, 1997, \"python\"]\n",
    "# I just changed the values within the list. There isn't much variation possible with thin question."
   ]
  },
  {
   "cell_type": "markdown",
   "metadata": {},
   "source": [
    "## 2. In 25 words or less, describe the difference between dict() and defaultdict(). (5 points)"
   ]
  },
  {
   "cell_type": "code",
   "execution_count": 2,
   "metadata": {},
   "outputs": [],
   "source": [
    "# A dictionary is a data structure where a key corresponds to a value that you set, whereas defaultdict() stores a default value for the keys."
   ]
  },
  {
   "cell_type": "markdown",
   "metadata": {},
   "source": [
    "## 3. What would the output be for the following Python code? (10 points)\n",
    "## if 4 > 5:\n",
    "## print('A')\n",
    "## elif 4 == 5:\n",
    "## print('B')\n",
    "## elif 4 < 5:\n",
    "## print('C')"
   ]
  },
  {
   "cell_type": "code",
   "execution_count": 3,
   "metadata": {},
   "outputs": [
    {
     "name": "stdout",
     "output_type": "stream",
     "text": [
      "A\n"
     ]
    }
   ],
   "source": [
    "# the answer for this one would print 'C' because 4 is less than 5. However we will redo it to print something else.\n",
    "if 25>10:\n",
    "    print('A')\n",
    "elif 25 == 10:\n",
    "    print('B')\n",
    "elif 25<10:\n",
    "    print('C')"
   ]
  },
  {
   "cell_type": "markdown",
   "metadata": {},
   "source": [
    "## 4. Write code for a simple Python program. (40 points total)\n",
    "## a) Write the Python code necessary to initialize the default dictionary collection\n",
    "## with the name my_dict. (5 pts.) 1) Be sure to include the necessary import line of code to be able to use default dictionary. (5 pts.) 2) We will be using the default dictionary to count the elements of the list, so make sure to initialize the default dictionary with the proper data type for counting. (5 pts.) (15 points)"
   ]
  },
  {
   "cell_type": "code",
   "execution_count": 6,
   "metadata": {},
   "outputs": [],
   "source": [
    "from collections import defaultdict"
   ]
  },
  {
   "cell_type": "code",
   "execution_count": 22,
   "metadata": {},
   "outputs": [],
   "source": [
    "dict_4 = defaultdict(int)"
   ]
  },
  {
   "cell_type": "markdown",
   "metadata": {},
   "source": [
    "## b) Given one string separated by spaces, food_list, write the line of code necessary to split the string by spaces into a list of values separated by commas (like we did in lecture), and save it. (10 points)\n",
    "## food_list = 'spam spam spam spam spam spam eggs spam'"
   ]
  },
  {
   "cell_type": "code",
   "execution_count": 23,
   "metadata": {},
   "outputs": [
    {
     "name": "stdout",
     "output_type": "stream",
     "text": [
      "['chicken', 'beef', 'stroganoff', 'chicken', 'chicken', 'chicken', 'chicken', 'beef', 'beef', 'spagetti']\n"
     ]
    }
   ],
   "source": [
    "food_types = 'chicken beef stroganoff chicken chicken chicken chicken beef beef spagetti'.split()\n",
    "print(food_types)\n",
    "# the .split() option puts the items in a list into quotes and also separates them by commas."
   ]
  },
  {
   "cell_type": "markdown",
   "metadata": {},
   "source": [
    "## c) Using the my_dict default dictionary you made in (a), write a for loop that would return the counts of food_list into the my_dict default dictionary. (15 points)"
   ]
  },
  {
   "cell_type": "code",
   "execution_count": 24,
   "metadata": {},
   "outputs": [
    {
     "name": "stdout",
     "output_type": "stream",
     "text": [
      "defaultdict(<class 'int'>, {'chicken': 5, 'beef': 3, 'stroganoff': 1, 'spagetti': 1})\n"
     ]
    }
   ],
   "source": [
    "for food in food_types:\n",
    "    dict_4[food] += 1\n",
    "print(dict_4)"
   ]
  },
  {
   "cell_type": "code",
   "execution_count": 25,
   "metadata": {},
   "outputs": [],
   "source": [
    "# I had to change the names of the dictionary and the food_list because I accidentally said burger and burgers in the last list so it accounted for two of those and when I fixed it it kept adding to the numbers so I redid it"
   ]
  },
  {
   "cell_type": "markdown",
   "metadata": {},
   "source": [
    "## 5. Python has a subfunction for strings that allows you to capitalize the characters within that string. The .upper() function accomplishes this. For example, a string such as, x = ‘abc’ could be capitalized and saved as such by running x = x.upper()\n",
    "## Given this, write a simple for loop that would iterate through a list of words (words) and save the all-caps versions in a new list called (bigwords). (10 points)"
   ]
  },
  {
   "cell_type": "code",
   "execution_count": 34,
   "metadata": {},
   "outputs": [],
   "source": [
    "words = [\"i\", \"like\", \"the\", \"color\", \"blue\"]"
   ]
  },
  {
   "cell_type": "code",
   "execution_count": 35,
   "metadata": {},
   "outputs": [
    {
     "name": "stdout",
     "output_type": "stream",
     "text": [
      "['i', 'like', 'the', 'color', 'blue']\n"
     ]
    }
   ],
   "source": [
    "print(words)"
   ]
  },
  {
   "cell_type": "code",
   "execution_count": 38,
   "metadata": {},
   "outputs": [
    {
     "name": "stdout",
     "output_type": "stream",
     "text": [
      "['I', 'LIKE', 'THE', 'COLOR', 'BLUE']\n"
     ]
    }
   ],
   "source": [
    "bigword = [x.upper() for x in words]\n",
    "print(bigword)"
   ]
  },
  {
   "cell_type": "markdown",
   "metadata": {},
   "source": [
    "## 6. What would the output for the following code be. Write it as it would actually appear in the Jupyter Notebook output. (10 points)"
   ]
  },
  {
   "cell_type": "code",
   "execution_count": 39,
   "metadata": {},
   "outputs": [
    {
     "name": "stdout",
     "output_type": "stream",
     "text": [
      "0\n",
      "0\n",
      "1\n",
      "1\n",
      "2\n",
      "2\n",
      "3\n",
      "3\n",
      "4\n",
      "4\n"
     ]
    }
   ],
   "source": [
    "number = 10\n",
    "for x in range(number):\n",
    "    output = x//2\n",
    "    print(output)"
   ]
  },
  {
   "cell_type": "code",
   "execution_count": 40,
   "metadata": {},
   "outputs": [
    {
     "name": "stdout",
     "output_type": "stream",
     "text": [
      "0.0\n",
      "0.5\n",
      "1.0\n",
      "1.5\n",
      "2.0\n",
      "2.5\n",
      "3.0\n",
      "3.5\n",
      "4.0\n",
      "4.5\n"
     ]
    }
   ],
   "source": [
    "number = 10\n",
    "for x in range(number):\n",
    "    output = x/2\n",
    "    print(output)"
   ]
  },
  {
   "cell_type": "code",
   "execution_count": 41,
   "metadata": {},
   "outputs": [],
   "source": [
    "# I did two different options for this one: initally I divided the numbers 1-10 without a remainder but the second time I divided and had it show me the remainder as well"
   ]
  },
  {
   "cell_type": "markdown",
   "metadata": {},
   "source": [
    "## 7. Symbols for conditionals. (2.5 points each, 10 points total)\n",
    "## a) Which symbol in Python is used to mean “equal to”?\n",
    "## b) Which symbol in Python is used to mean “not equal to”?\n",
    "## c) Which symbol in Python is used to mean “greater than or equal to”? d) Which symbol in Python is used to find the remainder?"
   ]
  },
  {
   "cell_type": "code",
   "execution_count": 42,
   "metadata": {},
   "outputs": [
    {
     "data": {
      "text/plain": [
       "True"
      ]
     },
     "execution_count": 42,
     "metadata": {},
     "output_type": "execute_result"
    }
   ],
   "source": [
    "(2 + 2) == (1 + 3)"
   ]
  },
  {
   "cell_type": "code",
   "execution_count": 44,
   "metadata": {},
   "outputs": [
    {
     "data": {
      "text/plain": [
       "False"
      ]
     },
     "execution_count": 44,
     "metadata": {},
     "output_type": "execute_result"
    }
   ],
   "source": [
    "(2 + 2) != (1 + 3)\n",
    "# these two statements are equal to each other but I set them not equal to each other and so it returned that this statement is false"
   ]
  },
  {
   "cell_type": "code",
   "execution_count": 46,
   "metadata": {},
   "outputs": [
    {
     "data": {
      "text/plain": [
       "True"
      ]
     },
     "execution_count": 46,
     "metadata": {},
     "output_type": "execute_result"
    }
   ],
   "source": [
    "(2 + 3) >= (2 + 2)\n",
    "# 5 is greater than 4 so this statement is true and those are all of the symbols that corresponf to them"
   ]
  },
  {
   "cell_type": "markdown",
   "metadata": {},
   "source": [
    "## What subfunction do you use to remove the last element of a list? (5 points)"
   ]
  },
  {
   "cell_type": "code",
   "execution_count": 50,
   "metadata": {},
   "outputs": [
    {
     "name": "stdout",
     "output_type": "stream",
     "text": [
      "['i', 'like', 'the', 'color']\n"
     ]
    }
   ],
   "source": [
    "words.pop()\n",
    "print(words)"
   ]
  },
  {
   "cell_type": "code",
   "execution_count": 51,
   "metadata": {},
   "outputs": [],
   "source": [
    "# from our list of words we made earlier, I used .pop to remove the last item, which was the word blue"
   ]
  },
  {
   "cell_type": "markdown",
   "metadata": {},
   "source": [
    "## 9. How do you find the length of a list with the name mylist? Make sure to write the code necessary to do this (you can show an example with mylist – no need to define what the values are). (5 points)"
   ]
  },
  {
   "cell_type": "code",
   "execution_count": 52,
   "metadata": {},
   "outputs": [
    {
     "data": {
      "text/plain": [
       "5"
      ]
     },
     "execution_count": 52,
     "metadata": {},
     "output_type": "execute_result"
    }
   ],
   "source": [
    "len(my_list)"
   ]
  },
  {
   "cell_type": "code",
   "execution_count": 53,
   "metadata": {},
   "outputs": [],
   "source": [
    "# the len function prints the number of items within a list. The list we made in number one of the quiz only had 5 items, hence the command printed number 5. However, for variation, we can try to print the length of mltiple lists at once"
   ]
  },
  {
   "cell_type": "code",
   "execution_count": 56,
   "metadata": {},
   "outputs": [
    {
     "data": {
      "text/plain": [
       "14"
      ]
     },
     "execution_count": 56,
     "metadata": {},
     "output_type": "execute_result"
    }
   ],
   "source": [
    "len(my_list + words + bigword)\n",
    "# this shows us the total number of items in these 3 lists. Len only takes one argument at a time, so it wouldnt be possible to separate these counts using this command"
   ]
  },
  {
   "cell_type": "markdown",
   "metadata": {},
   "source": [
    "## Extra Credit: Write a for loop that prints a list containing the even numbers from 0 to 100."
   ]
  },
  {
   "cell_type": "code",
   "execution_count": 63,
   "metadata": {},
   "outputs": [
    {
     "name": "stdout",
     "output_type": "stream",
     "text": [
      "0\n",
      "2\n",
      "4\n",
      "6\n",
      "8\n",
      "10\n",
      "12\n",
      "14\n",
      "16\n",
      "18\n",
      "20\n",
      "22\n",
      "24\n",
      "26\n",
      "28\n",
      "30\n",
      "32\n",
      "34\n",
      "36\n",
      "38\n",
      "40\n",
      "42\n",
      "44\n",
      "46\n",
      "48\n",
      "50\n",
      "52\n",
      "54\n",
      "56\n",
      "58\n",
      "60\n",
      "62\n",
      "64\n",
      "66\n",
      "68\n",
      "70\n",
      "72\n",
      "74\n",
      "76\n",
      "78\n",
      "80\n",
      "82\n",
      "84\n",
      "86\n",
      "88\n",
      "90\n",
      "92\n",
      "94\n",
      "96\n",
      "98\n",
      "None\n"
     ]
    }
   ],
   "source": [
    "for i in range(0,100, 2):\n",
    "    even_num = print(i)\n",
    "print(even_num)\n",
    "# this is a possible way to do it but we're going to go ahead and do the same thing for the odd numbers in the same range using a different method"
   ]
  },
  {
   "cell_type": "code",
   "execution_count": 73,
   "metadata": {},
   "outputs": [
    {
     "name": "stdout",
     "output_type": "stream",
     "text": [
      "1\n",
      "3\n",
      "5\n",
      "7\n",
      "9\n",
      "11\n",
      "13\n",
      "15\n",
      "17\n",
      "19\n",
      "21\n",
      "23\n",
      "25\n",
      "27\n",
      "29\n",
      "31\n",
      "33\n",
      "35\n",
      "37\n",
      "39\n",
      "41\n",
      "43\n",
      "45\n",
      "47\n",
      "49\n",
      "51\n",
      "53\n",
      "55\n",
      "57\n",
      "59\n",
      "61\n",
      "63\n",
      "65\n",
      "67\n",
      "69\n",
      "71\n",
      "73\n",
      "75\n",
      "77\n",
      "79\n",
      "81\n",
      "83\n",
      "85\n",
      "87\n",
      "89\n",
      "91\n",
      "93\n",
      "95\n",
      "97\n",
      "99\n"
     ]
    }
   ],
   "source": [
    "for x in range(0,100):\n",
    "    if x%2 != 0:\n",
    "        print(x)"
   ]
  },
  {
   "cell_type": "code",
   "execution_count": null,
   "metadata": {},
   "outputs": [],
   "source": []
  }
 ],
 "metadata": {
  "kernelspec": {
   "display_name": "Python 3",
   "language": "python",
   "name": "python3"
  },
  "language_info": {
   "codemirror_mode": {
    "name": "ipython",
    "version": 3
   },
   "file_extension": ".py",
   "mimetype": "text/x-python",
   "name": "python",
   "nbconvert_exporter": "python",
   "pygments_lexer": "ipython3",
   "version": "3.7.5"
  }
 },
 "nbformat": 4,
 "nbformat_minor": 2
}
